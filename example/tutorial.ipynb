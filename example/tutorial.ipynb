{
 "cells": [
  {
   "cell_type": "code",
   "execution_count": 5,
   "metadata": {},
   "outputs": [
    {
     "name": "stderr",
     "output_type": "stream",
     "text": [
      "2017-04-28 13:42:00,657 - WindAdapter - INFO - Loading the constituent stocks of index 000300.SH at date 20170103\n"
     ]
    },
    {
     "name": "stderr",
     "output_type": "stream",
     "text": [
      "2017-04-28 13:42:02,813 - WindAdapter - INFO - Number of the loaded constituent stocks is 300\n"
     ]
    }
   ],
   "source": [
    "from WindAdapter import get_universe\n",
    "\n",
    "# 读取指数成分股\n",
    "hs300_comp = get_universe('000300.SH', date='20170103')"
   ]
  },
  {
   "cell_type": "code",
   "execution_count": 1,
   "metadata": {},
   "outputs": [
    {
     "name": "stderr",
     "output_type": "stream",
     "text": [
      "2017-05-04 16:08:51,723 - WindAdapter - INFO - Factors that are available to query\n"
     ]
    },
    {
     "name": "stdout",
     "output_type": "stream",
     "text": [
      "Welcome to use Wind Quant API for Python (WindPy)!\nYou can use w.menu to help yourself to create commands(WSD,WSS,WST,WSI,WSQ,...)!\n\nCOPYRIGHT (C) 2016 WIND HONGHUI INFORMATION & TECHKNOLEWDGE CO., LTD. ALL RIGHTS RESERVED.\nIN NO CIRCUMSTANCE SHALL WIND BE RESPONSIBLE FOR ANY DAMAGES OR LOSSES CAUSED BY USING WIND QUANT API FOR Python.\n"
     ]
    },
    {
     "data": {
      "text/html": [
       "<div>\n",
       "<table border=\"1\" class=\"dataframe\">\n",
       "  <thead>\n",
       "    <tr style=\"text-align: right;\">\n",
       "      <th>Data_Dict</th>\n",
       "      <th>explanation</th>\n",
       "    </tr>\n",
       "    <tr>\n",
       "      <th>name</th>\n",
       "      <th></th>\n",
       "    </tr>\n",
       "  </thead>\n",
       "  <tbody>\n",
       "    <tr>\n",
       "      <th>MV</th>\n",
       "      <td>总市值（不可回测）</td>\n",
       "    </tr>\n",
       "    <tr>\n",
       "      <th>PB</th>\n",
       "      <td>市净率PB（LF）</td>\n",
       "    </tr>\n",
       "    <tr>\n",
       "      <th>STDQ</th>\n",
       "      <td>区间换手率（基准 自由流通股本）</td>\n",
       "    </tr>\n",
       "    <tr>\n",
       "      <th>EquityGrowth_YoY</th>\n",
       "      <td>净资产（同比增长率）</td>\n",
       "    </tr>\n",
       "    <tr>\n",
       "      <th>ROE</th>\n",
       "      <td>净资产收益率（平均）</td>\n",
       "    </tr>\n",
       "    <tr>\n",
       "      <th>ProfitGrowth_Qr_YoY</th>\n",
       "      <td>单季度 净利润同比增长率</td>\n",
       "    </tr>\n",
       "    <tr>\n",
       "      <th>TO_adj</th>\n",
       "      <td>区间日均换手率（基准 自由流通股本）</td>\n",
       "    </tr>\n",
       "    <tr>\n",
       "      <th>RETURN</th>\n",
       "      <td>区间涨跌幅</td>\n",
       "    </tr>\n",
       "    <tr>\n",
       "      <th>GrossProfit</th>\n",
       "      <td>毛利</td>\n",
       "    </tr>\n",
       "    <tr>\n",
       "      <th>EP</th>\n",
       "      <td>扣除非经常性损益后的净利润（TTM）</td>\n",
       "    </tr>\n",
       "    <tr>\n",
       "      <th>SP</th>\n",
       "      <td>营业总收入（TTM）</td>\n",
       "    </tr>\n",
       "    <tr>\n",
       "      <th>OHLCV</th>\n",
       "      <td>开盘价、最高价、最低价、收盘价、成交量</td>\n",
       "    </tr>\n",
       "    <tr>\n",
       "      <th>OPEN</th>\n",
       "      <td>开盘价</td>\n",
       "    </tr>\n",
       "    <tr>\n",
       "      <th>HIGH</th>\n",
       "      <td>最高价</td>\n",
       "    </tr>\n",
       "    <tr>\n",
       "      <th>LOW</th>\n",
       "      <td>最低价</td>\n",
       "    </tr>\n",
       "    <tr>\n",
       "      <th>CLOSE</th>\n",
       "      <td>收盘价</td>\n",
       "    </tr>\n",
       "    <tr>\n",
       "      <th>VOLUME</th>\n",
       "      <td>成交量</td>\n",
       "    </tr>\n",
       "    <tr>\n",
       "      <th>SW_C1</th>\n",
       "      <td>股票所属申万一级行业代码</td>\n",
       "    </tr>\n",
       "    <tr>\n",
       "      <th>SW_C2</th>\n",
       "      <td>股票所属申万一级行业代码</td>\n",
       "    </tr>\n",
       "  </tbody>\n",
       "</table>\n",
       "</div>"
      ]
     },
     "metadata": {},
     "output_type": "execute_result"
    },
    {
     "name": "stderr",
     "output_type": "stream",
     "text": [
      "2017-05-04 16:08:51,737 - WindAdapter - INFO - Factors(details) that are available to query\n"
     ]
    },
    {
     "data": {
      "text/html": [
       "<div>\n",
       "<table border=\"1\" class=\"dataframe\">\n",
       "  <thead>\n",
       "    <tr style=\"text-align: right;\">\n",
       "      <th>Data_Dict</th>\n",
       "      <th>api</th>\n",
       "      <th>indicator</th>\n",
       "      <th>priceadj</th>\n",
       "      <th>unit</th>\n",
       "      <th>explanation</th>\n",
       "      <th>type</th>\n",
       "    </tr>\n",
       "    <tr>\n",
       "      <th>name</th>\n",
       "      <th></th>\n",
       "      <th></th>\n",
       "      <th></th>\n",
       "      <th></th>\n",
       "      <th></th>\n",
       "      <th></th>\n",
       "    </tr>\n",
       "  </thead>\n",
       "  <tbody>\n",
       "    <tr>\n",
       "      <th>MV</th>\n",
       "      <td>wsd</td>\n",
       "      <td>mkt_cap</td>\n",
       "      <td>F</td>\n",
       "      <td>1.0</td>\n",
       "      <td>总市值（不可回测）</td>\n",
       "      <td>规模</td>\n",
       "    </tr>\n",
       "    <tr>\n",
       "      <th>PB</th>\n",
       "      <td>wsd</td>\n",
       "      <td>pb_lf</td>\n",
       "      <td>F</td>\n",
       "      <td>NaN</td>\n",
       "      <td>市净率PB（LF）</td>\n",
       "      <td>价值</td>\n",
       "    </tr>\n",
       "    <tr>\n",
       "      <th>STDQ</th>\n",
       "      <td>wss</td>\n",
       "      <td>turn_free_per</td>\n",
       "      <td>NaN</td>\n",
       "      <td>NaN</td>\n",
       "      <td>区间换手率（基准 自由流通股本）</td>\n",
       "      <td>流动性</td>\n",
       "    </tr>\n",
       "    <tr>\n",
       "      <th>EquityGrowth_YoY</th>\n",
       "      <td>wsd</td>\n",
       "      <td>yoy_equity</td>\n",
       "      <td>NaN</td>\n",
       "      <td>NaN</td>\n",
       "      <td>净资产（同比增长率）</td>\n",
       "      <td>成长</td>\n",
       "    </tr>\n",
       "    <tr>\n",
       "      <th>ROE</th>\n",
       "      <td>wsd</td>\n",
       "      <td>roe_avg</td>\n",
       "      <td>NaN</td>\n",
       "      <td>NaN</td>\n",
       "      <td>净资产收益率（平均）</td>\n",
       "      <td>盈利</td>\n",
       "    </tr>\n",
       "    <tr>\n",
       "      <th>ProfitGrowth_Qr_YoY</th>\n",
       "      <td>wsd</td>\n",
       "      <td>qfa_yoyprofit</td>\n",
       "      <td>NaN</td>\n",
       "      <td>NaN</td>\n",
       "      <td>单季度 净利润同比增长率</td>\n",
       "      <td>盈利</td>\n",
       "    </tr>\n",
       "    <tr>\n",
       "      <th>TO_adj</th>\n",
       "      <td>wss</td>\n",
       "      <td>avg_turn_free_per</td>\n",
       "      <td>NaN</td>\n",
       "      <td>NaN</td>\n",
       "      <td>区间日均换手率（基准 自由流通股本）</td>\n",
       "      <td>流动性</td>\n",
       "    </tr>\n",
       "    <tr>\n",
       "      <th>RETURN</th>\n",
       "      <td>wss</td>\n",
       "      <td>pct_chg_per</td>\n",
       "      <td>NaN</td>\n",
       "      <td>NaN</td>\n",
       "      <td>区间涨跌幅</td>\n",
       "      <td>估值</td>\n",
       "    </tr>\n",
       "    <tr>\n",
       "      <th>GrossProfit</th>\n",
       "      <td>wsd</td>\n",
       "      <td>grossmargin</td>\n",
       "      <td>NaN</td>\n",
       "      <td>100000000.0</td>\n",
       "      <td>毛利</td>\n",
       "      <td>盈利</td>\n",
       "    </tr>\n",
       "    <tr>\n",
       "      <th>EP</th>\n",
       "      <td>wsd</td>\n",
       "      <td>deductedprofit_ttm</td>\n",
       "      <td>NaN</td>\n",
       "      <td>100000000.0</td>\n",
       "      <td>扣除非经常性损益后的净利润（TTM）</td>\n",
       "      <td>盈利</td>\n",
       "    </tr>\n",
       "    <tr>\n",
       "      <th>SP</th>\n",
       "      <td>wsd</td>\n",
       "      <td>gr_ttm</td>\n",
       "      <td>NaN</td>\n",
       "      <td>100000000.0</td>\n",
       "      <td>营业总收入（TTM）</td>\n",
       "      <td>盈利</td>\n",
       "    </tr>\n",
       "    <tr>\n",
       "      <th>OHLCV</th>\n",
       "      <td>wsd</td>\n",
       "      <td>open,high,low,close,volume</td>\n",
       "      <td>NaN</td>\n",
       "      <td>NaN</td>\n",
       "      <td>开盘价、最高价、最低价、收盘价、成交量</td>\n",
       "      <td>技术</td>\n",
       "    </tr>\n",
       "    <tr>\n",
       "      <th>OPEN</th>\n",
       "      <td>wsd</td>\n",
       "      <td>open</td>\n",
       "      <td>F</td>\n",
       "      <td>NaN</td>\n",
       "      <td>开盘价</td>\n",
       "      <td>技术</td>\n",
       "    </tr>\n",
       "    <tr>\n",
       "      <th>HIGH</th>\n",
       "      <td>wsd</td>\n",
       "      <td>high</td>\n",
       "      <td>F</td>\n",
       "      <td>NaN</td>\n",
       "      <td>最高价</td>\n",
       "      <td>技术</td>\n",
       "    </tr>\n",
       "    <tr>\n",
       "      <th>LOW</th>\n",
       "      <td>wsd</td>\n",
       "      <td>low</td>\n",
       "      <td>F</td>\n",
       "      <td>NaN</td>\n",
       "      <td>最低价</td>\n",
       "      <td>技术</td>\n",
       "    </tr>\n",
       "    <tr>\n",
       "      <th>CLOSE</th>\n",
       "      <td>wsd</td>\n",
       "      <td>close</td>\n",
       "      <td>F</td>\n",
       "      <td>NaN</td>\n",
       "      <td>收盘价</td>\n",
       "      <td>技术</td>\n",
       "    </tr>\n",
       "    <tr>\n",
       "      <th>VOLUME</th>\n",
       "      <td>wsd</td>\n",
       "      <td>volume</td>\n",
       "      <td>F</td>\n",
       "      <td>NaN</td>\n",
       "      <td>成交量</td>\n",
       "      <td>技术</td>\n",
       "    </tr>\n",
       "    <tr>\n",
       "      <th>SW_C1</th>\n",
       "      <td>wsd</td>\n",
       "      <td>indexcode_sw</td>\n",
       "      <td>NaN</td>\n",
       "      <td>NaN</td>\n",
       "      <td>股票所属申万一级行业代码</td>\n",
       "      <td>基本信息</td>\n",
       "    </tr>\n",
       "    <tr>\n",
       "      <th>SW_C2</th>\n",
       "      <td>wsd</td>\n",
       "      <td>indexcode_sw</td>\n",
       "      <td>NaN</td>\n",
       "      <td>NaN</td>\n",
       "      <td>股票所属申万一级行业代码</td>\n",
       "      <td>基本信息</td>\n",
       "    </tr>\n",
       "  </tbody>\n",
       "</table>\n",
       "</div>"
      ]
     },
     "metadata": {},
     "output_type": "execute_result"
    }
   ],
   "source": [
    "from WindAdapter import factor_help, factor_details_help\n",
    "\n",
    "factor_help()\n",
    "factor_details_help()"
   ]
  },
  {
   "cell_type": "code",
   "execution_count": 6,
   "metadata": {},
   "outputs": [
    {
     "name": "stderr",
     "output_type": "stream",
     "text": [
      "2017-04-28 13:51:56,246 - WindAdapter - INFO - Loading factor data return\n"
     ]
    },
    {
     "name": "stderr",
     "output_type": "stream",
     "text": [
      "2017-04-28 13:51:57,428 - WindAdapter - INFO - factor data return is loaded \n"
     ]
    },
    {
     "name": "stderr",
     "output_type": "stream",
     "text": [
      "2017-04-28 13:51:57,433 - WindAdapter - CRITICAL - Data saved in HS300_return_1Q.csv\n"
     ]
    },
    {
     "name": "stdout",
     "output_type": "stream",
     "text": [
      "                         factor\ndate       secID               \n2014-01-30 000001.SZ -19.263456\n           000002.SZ -16.610169\n           000009.SZ  -3.202479\n           000012.SZ -13.318777\n           000024.SZ -21.243082\n"
     ]
    }
   ],
   "source": [
    "from WindAdapter import factor_load\n",
    "from WindAdapter.enums import OutputFormat\n",
    "\n",
    "# 读取 2014年上半年 000001.SZ和000002.SZ的PB数据， 并保存成csv格式（默认数据频率为月频，数据格式为multi-index DataFrame）\n",
    "# factor_load('2014-01-01', '2014-07-10', 'PB', sec_id=['000001.SZ', '000002.SZ'], is_index=False, save_file='PB.csv')\n",
    "\n",
    "# 读取全市场 2016年1月的每日收盘价，并保存成pickle格式\n",
    "#　factor_load('2014-01-01', '2014-07-10', 'close', sec_id='fullA', is_index=True, freq='D', save_file='close.pkl')\n",
    "\n",
    "# 读取沪深300成分股从2014年1月至3月，频率为每月(freq=M)的季度(tenor='1Q')收益， 并保存成csv格式\n",
    "print factor_load('2014-01-01', '2014-03-31', 'return', sec_id='000300.SH', is_index=True, freq='M', tenor='1Q',\n",
    "            save_file='HS300_return_1Q.csv').head()"
   ]
  },
  {
   "cell_type": "code",
   "execution_count": 1,
   "metadata": {},
   "outputs": [
    {
     "name": "stderr",
     "output_type": "stream",
     "text": [
      "2017-04-28 13:58:40,135 - WindAdapter - CRITICAL - Reset path of data dict to C:\\data_dict_perso.csv\n"
     ]
    },
    {
     "name": "stdout",
     "output_type": "stream",
     "text": [
      "Welcome to use Wind Quant API for Python (WindPy)!\nYou can use w.menu to help yourself to create commands(WSD,WSS,WST,WSI,WSQ,...)!\n\nCOPYRIGHT (C) 2016 WIND HONGHUI INFORMATION & TECHKNOLEWDGE CO., LTD. ALL RIGHTS RESERVED.\nIN NO CIRCUMSTANCE SHALL WIND BE RESPONSIBLE FOR ANY DAMAGES OR LOSSES CAUSED BY USING WIND QUANT API FOR Python.\n"
     ]
    }
   ],
   "source": [
    "from WindAdapter import reset_data_dict_path\n",
    "\n",
    "reset_data_dict_path(path='C:\\\\data_dict_perso.csv', path_type_abs=True)"
   ]
  },
  {
   "cell_type": "code",
   "execution_count": 5,
   "metadata": {},
   "outputs": [],
   "source": [
    ""
   ]
  },
  {
   "cell_type": "code",
   "execution_count": null,
   "metadata": {},
   "outputs": [],
   "source": [
    ""
   ]
  }
 ],
 "metadata": {},
 "nbformat": 4,
 "nbformat_minor": 0
}